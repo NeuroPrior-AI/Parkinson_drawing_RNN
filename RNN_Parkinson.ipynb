{
  "nbformat": 4,
  "nbformat_minor": 0,
  "metadata": {
    "colab": {
      "provenance": [],
      "collapsed_sections": []
    },
    "kernelspec": {
      "name": "python3",
      "display_name": "Python 3"
    },
    "language_info": {
      "name": "python"
    },
    "accelerator": "GPU",
    "gpuClass": "standard"
  },
  "cells": [
    {
      "cell_type": "code",
      "execution_count": null,
      "metadata": {
        "id": "ZOn7jvgCW7gP"
      },
      "outputs": [],
      "source": [
        "import torch\n",
        "import torch.nn as nn\n",
        "import torch.nn.functional as F\n",
        "import torch.optim as optim\n",
        "from torch.autograd import Variable \n",
        "from torch.utils.data import DataLoader\n",
        "from torch.utils.data import Dataset\n",
        "from torchvision.transforms import ToTensor\n",
        "import matplotlib.pyplot as plt\n",
        "# from torch.utils.data import \n",
        "import numpy as np\n",
        "import pandas as pd\n",
        "from sklearn import preprocessing"
      ]
    },
    {
      "cell_type": "code",
      "source": [
        "# X_train_tensors = Variable(torch.Tensor(X_train))\n",
        "# X_test_tensors = Variable(torch.Tensor(X_test))\n",
        "\n",
        "# y_train_tensors = Variable(torch.Tensor(y_train))\n",
        "# y_test_tensors = Variable(torch.Tensor(y_test)) "
      ],
      "metadata": {
        "id": "mGLqKjl2i1im"
      },
      "execution_count": null,
      "outputs": []
    },
    {
      "cell_type": "code",
      "source": [
        "\n",
        "\n",
        "#     tensor_df = get_tensor_from_pd(df).float()\n",
        "#     tensor_y = get_tensor_from_pd(y).float()\n",
        "# # get_train_data()"
      ],
      "metadata": {
        "id": "GFdFAJCIZYFc"
      },
      "execution_count": null,
      "outputs": []
    },
    {
      "cell_type": "code",
      "source": [
        "# df = torch.tensor(df.values)"
      ],
      "metadata": {
        "id": "WdLWlLzGkCjt"
      },
      "execution_count": null,
      "outputs": []
    },
    {
      "cell_type": "code",
      "source": [
        "# y = torch.tensor(y.values)"
      ],
      "metadata": {
        "id": "3OcErOOk66XU"
      },
      "execution_count": null,
      "outputs": []
    },
    {
      "cell_type": "code",
      "source": [
        "\n",
        "# df[1]\n",
        "# df = pd.DataFrame(df)"
      ],
      "metadata": {
        "id": "L3rM-Od8zD2o"
      },
      "execution_count": null,
      "outputs": []
    },
    {
      "cell_type": "code",
      "source": [
        "num_epochs = 1000 #1000 epochs\n",
        "learning_rate = 0.001 #0.001 lr\n",
        "device = torch.device(\"cuda\")\n",
        "input_size = 2 #number of features\n",
        "hidden_size = 32 #number of features in hidden state\n",
        "num_layers = 1 #number of stacked lstm layers\n",
        "batch_size = 64\n",
        "num_classes = 1 #number of output classes "
      ],
      "metadata": {
        "id": "n5xkSP5G6vww"
      },
      "execution_count": null,
      "outputs": []
    },
    {
      "cell_type": "code",
      "source": [
        "# y"
      ],
      "metadata": {
        "id": "JBLhhGxY5nRS"
      },
      "execution_count": null,
      "outputs": []
    },
    {
      "cell_type": "code",
      "source": [
        "# y[1]"
      ],
      "metadata": {
        "id": "hyJrklDJ8jg1"
      },
      "execution_count": null,
      "outputs": []
    },
    {
      "cell_type": "code",
      "source": [
        "# df.shape"
      ],
      "metadata": {
        "id": "0wucFUE8kUwY"
      },
      "execution_count": null,
      "outputs": []
    },
    {
      "cell_type": "code",
      "source": [
        "\n",
        "df = pd.DataFrame(data=preprocessing.StandardScaler().fit_transform(np.random.randint(0, 10, size=(1000, 200))))\n",
        "\n",
        "y = pd.Series(np.random.randint(0, 2, 500))\n",
        "df = torch.tensor(df.values, dtype = float)\n",
        "y = torch.tensor(y.values).reshape(500, 1)\n",
        "df = df.reshape(500, 200, 2)\n",
        "\n",
        "dataset = []\n",
        "\n",
        "for i in range(len(df)):\n",
        "    dataset.append([df[i], y[i]])\n",
        "trainloader = torch.utils.data.DataLoader(dataset, shuffle=True, batch_size=batch_size)"
      ],
      "metadata": {
        "id": "uzrudxPZ4EFD"
      },
      "execution_count": null,
      "outputs": []
    },
    {
      "cell_type": "code",
      "source": [
        "df"
      ],
      "metadata": {
        "colab": {
          "base_uri": "https://localhost:8080/"
        },
        "id": "5OjcKt2eBNWz",
        "outputId": "b276a48f-7e18-4f59-f265-9dc0642bae62"
      },
      "execution_count": null,
      "outputs": [
        {
          "output_type": "execute_result",
          "data": {
            "text/plain": [
              "tensor([[[ 1.1868, -0.8822],\n",
              "         [ 0.5031, -0.1867],\n",
              "         [-0.8365,  1.5986],\n",
              "         ...,\n",
              "         [-0.8896, -0.1589],\n",
              "         [-0.9279,  0.8811],\n",
              "         [-1.1989, -0.8618]],\n",
              "\n",
              "        [[ 1.5367, -0.1781],\n",
              "         [ 0.1602,  0.5179],\n",
              "         [-1.5147, -0.1851],\n",
              "         ...,\n",
              "         [ 0.8554,  1.2140],\n",
              "         [ 0.5051,  0.1813],\n",
              "         [ 0.8910,  0.1765]],\n",
              "\n",
              "        [[ 1.5367,  1.2299],\n",
              "         [-0.5258,  1.2226],\n",
              "         [-0.8365, -0.1851],\n",
              "         ...,\n",
              "         [ 0.1574, -1.1886],\n",
              "         [ 0.5051, -1.5683],\n",
              "         [ 0.1944,  1.2148]],\n",
              "\n",
              "        ...,\n",
              "\n",
              "        [[-1.2624,  1.2299],\n",
              "         [ 1.5321, -0.8914],\n",
              "         [ 1.1980, -1.6121],\n",
              "         ...,\n",
              "         [-1.2386, -1.1886],\n",
              "         [ 1.2216, -1.5683],\n",
              "         [-1.1989,  1.5609]],\n",
              "\n",
              "        [[-0.5626,  1.2299],\n",
              "         [-1.2117,  0.5179],\n",
              "         [-1.1756,  1.5986],\n",
              "         ...,\n",
              "         [ 1.5534, -0.8454],\n",
              "         [ 1.2216, -0.5186],\n",
              "         [-0.8506, -1.2079]],\n",
              "\n",
              "        [[ 0.4870, -1.2342],\n",
              "         [-1.2117,  1.5750],\n",
              "         [-1.5147,  0.5283],\n",
              "         ...,\n",
              "         [ 0.5064, -1.5318],\n",
              "         [ 0.8634, -0.1687],\n",
              "         [-1.5472,  0.5226]]], dtype=torch.float64)"
            ]
          },
          "metadata": {},
          "execution_count": 12
        }
      ]
    },
    {
      "cell_type": "code",
      "source": [
        "# dataset\n",
        "df2 = pd.DataFrame(data=preprocessing.StandardScaler().fit_transform(np.random.randint(0, 10, size=(600, 200))))\n",
        "\n",
        "y2 = pd.Series(np.random.randint(0, 2, 300))\n",
        "df2 = torch.tensor(df2.values, dtype = float)\n",
        "y2 = torch.tensor(y2.values).reshape(300, 1)\n",
        "df2 = df2.reshape(300, 200, 2)\n",
        "dataset2 = []\n",
        "for i in range(len(df2)):\n",
        "    dataset2.append([df2[i], y2[i]])\n",
        "testloader = torch.utils.data.DataLoader(dataset2, shuffle=True, batch_size=batch_size)"
      ],
      "metadata": {
        "id": "J5J5fXOm86hk"
      },
      "execution_count": null,
      "outputs": []
    },
    {
      "cell_type": "code",
      "source": [],
      "metadata": {
        "id": "VFMyFy1wBQYk"
      },
      "execution_count": null,
      "outputs": []
    },
    {
      "cell_type": "code",
      "source": [
        "class Net(nn.Module):\n",
        "    def __init__(self, num_classes, input_size, hidden_size, num_layers, seq_length):\n",
        "        super(Net, self).__init__()\n",
        "        self.num_classes = num_classes #number of classes\n",
        "        self.num_layers = num_layers #number of layers\n",
        "        self.input_size = input_size #input size\n",
        "        self.hidden_size = hidden_size #hidden state\n",
        "        self.seq_length = seq_length #sequence length\n",
        "\n",
        "        self.lstm = nn.LSTM(input_size=input_size, hidden_size=hidden_size,\n",
        "                          num_layers=num_layers, batch_first=True) #lstm\n",
        "        self.fc_1 =  nn.Linear(hidden_size, 128) \n",
        "        self.fc = nn.Linear(128, num_classes) \n",
        "\n",
        "        self.relu = nn.ReLU()\n",
        "        self.sigmoid = nn.Sigmoid()\n",
        "    \n",
        "    def forward(self,x):\n",
        "        x = x.float()\n",
        "        h_0 = Variable(torch.zeros(self.num_layers, x.size(0), self.hidden_size, device=x.device)) #hidden state\n",
        "        c_0 = Variable(torch.zeros(self.num_layers, x.size(0), self.hidden_size, device=x.device)) #internal state\n",
        "\n",
        "        # Propagate input through LSTM\n",
        "        \n",
        "        output, (hn, cn) = self.lstm(x, (h_0, c_0)) #lstm with input, hidden, and internal state\n",
        "        hn = hn.view(-1, self.hidden_size) #reshaping the data for Dense layer next\n",
        "\n",
        "        out = self.relu(hn)\n",
        "        out = self.fc_1(out) \n",
        "        out = self.relu(out) \n",
        "        out = self.fc(out) \n",
        "        out = self.sigmoid(out)\n",
        "        return out"
      ],
      "metadata": {
        "id": "aLpHzdMiXMxK"
      },
      "execution_count": null,
      "outputs": []
    },
    {
      "cell_type": "code",
      "source": [],
      "metadata": {
        "id": "E_P8KGuqeOz-"
      },
      "execution_count": null,
      "outputs": []
    },
    {
      "cell_type": "code",
      "source": [],
      "metadata": {
        "id": "l-gCdJf4ePsl"
      },
      "execution_count": null,
      "outputs": []
    },
    {
      "cell_type": "code",
      "source": [
        "criterion = torch.nn.BCELoss()  # mean-squared error for regression\n",
        "optimizer = torch.optim.Adam(lstm.parameters(), lr=learning_rate) "
      ],
      "metadata": {
        "id": "jR1b1hEWfPJI"
      },
      "execution_count": null,
      "outputs": []
    },
    {
      "cell_type": "code",
      "source": [
        "def train_epoch(model, train_loader, test_loader, num_epoch = num_epochs, criterion = criterion, optimizer = optimizer):\n",
        "    model.train()\n",
        "    for i in range(num_epochs):\n",
        "        for seq, labels in train_loader:\n",
        "            \n",
        "            model = model.to(device)\n",
        "            seq = seq.to(device)\n",
        "            labels = labels.to(device)\n",
        "\n",
        "            optimizer.zero_grad()\n",
        "            y_pred = model(seq)\n",
        "\n",
        "            y_pred = y_pred.to(torch.float32)\n",
        "            labels = labels.to(torch.float32)\n",
        "\n",
        "            loss = criterion(y_pred, labels)\n",
        "            loss.backward() \n",
        "            optimizer.step()\n",
        "\n",
        "        if i % 100 == 0:\n",
        "            # print(\"Epoch: %d, loss: %1.5f\" % (epoch, loss.item())) \n",
        "            acc = eval_performance(model, test_loader)\n",
        "            print(\"Epoch: %d, loss: %1.5f, acc:%1.5f\" % (i, loss.item(), acc)) "
      ],
      "metadata": {
        "id": "rPORXXNXfREP"
      },
      "execution_count": null,
      "outputs": []
    },
    {
      "cell_type": "code",
      "source": [
        "def eval_performance(model, test_loader):\n",
        "    total_correct = 0\n",
        "    total_num = 0\n",
        "\n",
        "    model.eval()\n",
        "    with torch.no_grad():\n",
        "        for seq, labels in test_loader:\n",
        "\n",
        "            seq = seq.to(device)\n",
        "            labels = labels.to(device)\n",
        "            \n",
        "            y_pred = model(seq) \n",
        "\n",
        "            y_pred = y_pred > 0.5\n",
        "            total_correct +=torch.eq(y_pred,labels).float().sum().item()\n",
        "            total_num += seq.size(dim=0)\n",
        "        acc=total_correct/total_num\n",
        "\n",
        "    model.train()\n",
        "    return acc\n",
        "\n",
        "        \n",
        "        "
      ],
      "metadata": {
        "id": "RdSiBcOznfTF"
      },
      "execution_count": null,
      "outputs": []
    },
    {
      "cell_type": "code",
      "source": [
        "train_epoch(lstm, trainloader, testloader)"
      ],
      "metadata": {
        "id": "MSgN5avc_v6z",
        "colab": {
          "base_uri": "https://localhost:8080/"
        },
        "outputId": "db967862-dac2-4483-8c31-970dc5c94b85"
      },
      "execution_count": null,
      "outputs": [
        {
          "output_type": "stream",
          "name": "stdout",
          "text": [
            "Epoch: 0, loss: 0.69395, acc:0.55667\n",
            "Epoch: 100, loss: 0.25608, acc:0.54000\n",
            "Epoch: 200, loss: 0.01137, acc:0.55000\n",
            "Epoch: 300, loss: 0.00137, acc:0.54667\n",
            "Epoch: 400, loss: 0.00065, acc:0.54000\n",
            "Epoch: 500, loss: 0.00020, acc:0.54333\n",
            "Epoch: 600, loss: 0.00012, acc:0.55667\n",
            "Epoch: 700, loss: 0.00005, acc:0.56000\n",
            "Epoch: 800, loss: 0.00002, acc:0.55333\n",
            "Epoch: 900, loss: 0.00002, acc:0.54667\n"
          ]
        }
      ]
    }
  ]
}